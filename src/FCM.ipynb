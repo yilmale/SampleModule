{
 "cells": [
  {
   "cell_type": "code",
   "execution_count": 1,
   "metadata": {},
   "outputs": [],
   "source": [
    "import Pkg"
   ]
  },
  {
   "cell_type": "code",
   "execution_count": 2,
   "metadata": {},
   "outputs": [
    {
     "name": "stderr",
     "output_type": "stream",
     "text": [
      "\u001b[32m\u001b[1m   Updating\u001b[22m\u001b[39m registry at `~/.julia/registries/General`\n",
      "tar: tar: Failed to set default localeFailed to set default locale\n",
      "\n",
      "######################################################################### 100.0%\n",
      "tar: Failed to set default locale\n",
      "\u001b[32m\u001b[1m   Updating\u001b[22m\u001b[39m registry at `~/.julia/registries/JuliaComputingRegistry`\n",
      "\u001b[32m\u001b[1m  Resolving\u001b[22m\u001b[39m package versions...\n",
      "\u001b[32m\u001b[1mNo Changes\u001b[22m\u001b[39m to `~/.julia/environments/JuliaPro_v1.5.4-1/Project.toml`\n",
      "\u001b[32m\u001b[1mNo Changes\u001b[22m\u001b[39m to `~/.julia/environments/JuliaPro_v1.5.4-1/Manifest.toml`\n"
     ]
    }
   ],
   "source": [
    "Pkg.add(\"LightGraphs\")"
   ]
  },
  {
   "cell_type": "code",
   "execution_count": 3,
   "metadata": {},
   "outputs": [
    {
     "name": "stderr",
     "output_type": "stream",
     "text": [
      "\u001b[32m\u001b[1m  Resolving\u001b[22m\u001b[39m package versions...\n",
      "\u001b[32m\u001b[1mNo Changes\u001b[22m\u001b[39m to `~/.julia/environments/JuliaPro_v1.5.4-1/Project.toml`\n",
      "\u001b[32m\u001b[1mNo Changes\u001b[22m\u001b[39m to `~/.julia/environments/JuliaPro_v1.5.4-1/Manifest.toml`\n"
     ]
    }
   ],
   "source": [
    "Pkg.add(\"SimpleWeightedGraphs\")"
   ]
  },
  {
   "cell_type": "code",
   "execution_count": 4,
   "metadata": {},
   "outputs": [],
   "source": [
    "using LightGraphs, SimpleWeightedGraphs"
   ]
  },
  {
   "cell_type": "code",
   "execution_count": 5,
   "metadata": {},
   "outputs": [
    {
     "data": {
      "text/plain": [
       "Dict{String,Float64} with 5 entries:\n",
       "  \"C1\" => 0.0\n",
       "  \"C2\" => 0.0\n",
       "  \"C3\" => 0.0\n",
       "  \"C4\" => 0.0\n",
       "  \"C5\" => 0.0"
      ]
     },
     "execution_count": 5,
     "metadata": {},
     "output_type": "execute_result"
    }
   ],
   "source": [
    "input = Dict(\"C1\" => 0.0, \"C2\" => 0.0, \"C3\" => 0.0, \"C4\" => 0.0, \"C5\" => 0.0)"
   ]
  },
  {
   "cell_type": "code",
   "execution_count": 6,
   "metadata": {},
   "outputs": [
    {
     "data": {
      "text/plain": [
       "0.01"
      ]
     },
     "execution_count": 6,
     "metadata": {},
     "output_type": "execute_result"
    }
   ],
   "source": [
    "const default_INACTIVE = 0.0\n",
    "const default_ACTIVE = 1.0\n",
    "const default = 0.01"
   ]
  },
  {
   "cell_type": "code",
   "execution_count": 7,
   "metadata": {},
   "outputs": [
    {
     "data": {
      "text/plain": [
       "0.3"
      ]
     },
     "execution_count": 7,
     "metadata": {},
     "output_type": "execute_result"
    }
   ],
   "source": [
    "const MAX = 1.0\n",
    "const MIN = -1\n",
    "const delta = 0.005\n",
    "const threshold = 0.30"
   ]
  },
  {
   "cell_type": "code",
   "execution_count": 279,
   "metadata": {},
   "outputs": [
    {
     "data": {
      "text/plain": [
       "5-element Array{Tuple{String,Float64},1}:\n",
       " (\"C1\", 0.0)\n",
       " (\"C2\", 0.0)\n",
       " (\"C3\", 0.0)\n",
       " (\"C4\", 1.0)\n",
       " (\"C5\", 0.0)"
      ]
     },
     "execution_count": 279,
     "metadata": {},
     "output_type": "execute_result"
    }
   ],
   "source": [
    "nodes = [(\"C1\", default_INACTIVE), (\"C2\", default_INACTIVE),(\"C3\", default_INACTIVE), (\"C4\", default_ACTIVE),(\"C5\", default_INACTIVE)]"
   ]
  },
  {
   "cell_type": "code",
   "execution_count": 280,
   "metadata": {},
   "outputs": [
    {
     "data": {
      "text/plain": [
       "12-element Array{Tuple{String,String,Float64},1}:\n",
       " (\"C1\", \"C2\", 1.0)\n",
       " (\"C1\", \"C4\", -1.0)\n",
       " (\"C2\", \"C3\", 1.0)\n",
       " (\"C2\", \"C5\", -1.0)\n",
       " (\"C3\", \"C4\", 1.0)\n",
       " (\"C3\", \"C5\", -1.0)\n",
       " (\"C4\", \"C1\", 1.0)\n",
       " (\"C4\", \"C3\", -1.0)\n",
       " (\"C4\", \"C5\", 1.0)\n",
       " (\"C5\", \"C1\", -1.0)\n",
       " (\"C5\", \"C2\", 1.0)\n",
       " (\"C5\", \"C4\", -1.0)"
      ]
     },
     "execution_count": 280,
     "metadata": {},
     "output_type": "execute_result"
    }
   ],
   "source": [
    "dependencies = [(\"C1\",\"C2\",1.0),(\"C1\",\"C4\",-1.0),(\"C2\",\"C3\",1.0),(\"C2\",\"C5\",-1.0),(\"C3\",\"C4\",1.0),\n",
    "(\"C3\",\"C5\",-1.0),(\"C4\",\"C1\",1.0),(\"C4\",\"C3\",-1.0),(\"C4\",\"C5\",1.0),(\"C5\",\"C1\",-1.0),(\"C5\",\"C2\",1.0),\n",
    "(\"C5\",\"C4\",-1.0)]"
   ]
  },
  {
   "cell_type": "markdown",
   "metadata": {},
   "source": [
    "fcm = FCMap(nodes,dependencies,input)"
   ]
  },
  {
   "cell_type": "code",
   "execution_count": 27,
   "metadata": {},
   "outputs": [
    {
     "name": "stderr",
     "output_type": "stream",
     "text": [
      "\u001b[32m\u001b[1m  Resolving\u001b[22m\u001b[39m package versions...\n",
      "tar: Failed to set default locale\n",
      "\u001b[32m\u001b[1m  Installed\u001b[22m\u001b[39m SimpleWeightedGraphs ─ v1.1.1\n",
      "\u001b[32m\u001b[1mUpdating\u001b[22m\u001b[39m `~/.julia/environments/JuliaPro_v1.5.4-1/Project.toml`\n",
      " \u001b[90m [47aef6b3] \u001b[39m\u001b[92m+ SimpleWeightedGraphs v1.1.1\u001b[39m\n",
      "\u001b[32m\u001b[1mUpdating\u001b[22m\u001b[39m `~/.julia/environments/JuliaPro_v1.5.4-1/Manifest.toml`\n",
      " \u001b[90m [47aef6b3] \u001b[39m\u001b[92m+ SimpleWeightedGraphs v1.1.1\u001b[39m\n"
     ]
    }
   ],
   "source": [
    "import Pkg; Pkg.add(\"SimpleWeightedGraphs\")"
   ]
  },
  {
   "cell_type": "code",
   "execution_count": 28,
   "metadata": {},
   "outputs": [
    {
     "name": "stderr",
     "output_type": "stream",
     "text": [
      "┌ Info: Precompiling SimpleWeightedGraphs [47aef6b3-ad0c-573a-a1e2-d07658019622]\n",
      "└ @ Base loading.jl:1278\n"
     ]
    }
   ],
   "source": [
    "using LightGraphs, SimpleWeightedGraphs"
   ]
  },
  {
   "cell_type": "code",
   "execution_count": 52,
   "metadata": {},
   "outputs": [
    {
     "data": {
      "text/plain": [
       "{3, 3} directed simple Int64 graph with Float64 weights"
      ]
     },
     "execution_count": 52,
     "metadata": {},
     "output_type": "execute_result"
    }
   ],
   "source": [
    "sources = [1,2,1]\n",
    "destinations = [2,3,3]\n",
    "weights = [0.5, 0.8, 2.0]\n",
    "g = SimpleWeightedDiGraph(sources, destinations, weights)"
   ]
  },
  {
   "cell_type": "code",
   "execution_count": 53,
   "metadata": {},
   "outputs": [
    {
     "data": {
      "text/plain": [
       "3×3 SparseArrays.SparseMatrixCSC{Float64,Int64} with 3 stored entries:\n",
       "  [2, 1]  =  0.5\n",
       "  [3, 1]  =  2.0\n",
       "  [3, 2]  =  0.8"
      ]
     },
     "execution_count": 53,
     "metadata": {},
     "output_type": "execute_result"
    }
   ],
   "source": [
    "g.weights"
   ]
  },
  {
   "cell_type": "code",
   "execution_count": 167,
   "metadata": {},
   "outputs": [
    {
     "data": {
      "text/plain": [
       "Base.Generator{Base.Iterators.Zip{Tuple{Array{Int64,1},Array{Int64,1},Array{Float64,1}}},SimpleWeightedGraphs.var\"#6#7\"}(SimpleWeightedGraphs.var\"#6#7\"(), zip([2, 3, 3], [1, 1, 2], [0.5, 2.0, 0.8]))"
      ]
     },
     "execution_count": 167,
     "metadata": {},
     "output_type": "execute_result"
    }
   ],
   "source": [
    "edges(g)"
   ]
  },
  {
   "cell_type": "code",
   "execution_count": 174,
   "metadata": {},
   "outputs": [
    {
     "name": "stdout",
     "output_type": "stream",
     "text": [
      "Set(Any[2, 3, 1])\n"
     ]
    }
   ],
   "source": [
    "s=Set()\n",
    "for i in edges(g)\n",
    "   #print(\"Source: \", src(i), \" Destination: \", dst(i)) \n",
    "   push!(s,src(i))\n",
    "   push!(s,dst(i))\n",
    "end\n",
    "println(s)"
   ]
  },
  {
   "cell_type": "code",
   "execution_count": 171,
   "metadata": {},
   "outputs": [
    {
     "data": {
      "text/plain": [
       "3×3 SparseArrays.SparseMatrixCSC{Float64,Int64} with 3 stored entries:\n",
       "  [2, 1]  =  0.5\n",
       "  [3, 1]  =  2.0\n",
       "  [3, 2]  =  0.8"
      ]
     },
     "execution_count": 171,
     "metadata": {},
     "output_type": "execute_result"
    }
   ],
   "source": [
    "g.weights"
   ]
  },
  {
   "cell_type": "code",
   "execution_count": 23,
   "metadata": {},
   "outputs": [
    {
     "data": {
      "text/plain": [
       "@repeat (macro with 1 method)"
      ]
     },
     "execution_count": 23,
     "metadata": {},
     "output_type": "execute_result"
    }
   ],
   "source": [
    "macro repeat(body, cond)  \n",
    "   quote\n",
    "        $body\n",
    "        while !($cond)\n",
    "            $body\n",
    "        end\n",
    "    end\n",
    "end"
   ]
  },
  {
   "cell_type": "code",
   "execution_count": 16,
   "metadata": {},
   "outputs": [
    {
     "data": {
      "text/plain": [
       "@until (macro with 1 method)"
      ]
     },
     "execution_count": 16,
     "metadata": {},
     "output_type": "execute_result"
    }
   ],
   "source": [
    "macro until(cond)\n",
    "     quote\n",
    "       $cond \n",
    "     end          \n",
    "end"
   ]
  },
  {
   "cell_type": "code",
   "execution_count": 28,
   "metadata": {},
   "outputs": [
    {
     "data": {
      "text/plain": [
       "@until1 (macro with 1 method)"
      ]
     },
     "execution_count": 28,
     "metadata": {},
     "output_type": "execute_result"
    }
   ],
   "source": [
    "macro until1(cond,test)\n",
    "     quote\n",
    "       $cond && $test\n",
    "     end          \n",
    "end"
   ]
  },
  {
   "cell_type": "code",
   "execution_count": 30,
   "metadata": {},
   "outputs": [
    {
     "data": {
      "text/plain": [
       "@until2 (macro with 1 method)"
      ]
     },
     "execution_count": 30,
     "metadata": {},
     "output_type": "execute_result"
    }
   ],
   "source": [
    "macro until2(cond)\n",
    "     quote\n",
    "       $cond\n",
    "     end          \n",
    "end"
   ]
  },
  {
   "cell_type": "code",
   "execution_count": 31,
   "metadata": {},
   "outputs": [
    {
     "name": "stdout",
     "output_type": "stream",
     "text": [
      "2\n",
      "3\n",
      "4\n",
      "5\n",
      "6\n"
     ]
    }
   ],
   "source": [
    "a = 1\n",
    "@repeat begin global a=a+1; println(a) end @until1 a > 5 @until2 a > 4"
   ]
  },
  {
   "cell_type": "code",
   "execution_count": 1,
   "metadata": {},
   "outputs": [
    {
     "data": {
      "text/plain": [
       "quote\n",
       "    #= none:1 =#\n",
       "    a = a + 1\n",
       "end"
      ]
     },
     "execution_count": 1,
     "metadata": {},
     "output_type": "execute_result"
    }
   ],
   "source": [
    "exp = Meta.parse(\"begin a = a +1 end\")"
   ]
  },
  {
   "cell_type": "code",
   "execution_count": 5,
   "metadata": {},
   "outputs": [
    {
     "data": {
      "text/plain": [
       "@codeGen (macro with 1 method)"
      ]
     },
     "execution_count": 5,
     "metadata": {},
     "output_type": "execute_result"
    }
   ],
   "source": [
    "macro codeGen(code)\n",
    "   Meta.parse(code) \n",
    "end"
   ]
  },
  {
   "cell_type": "code",
   "execution_count": 7,
   "metadata": {},
   "outputs": [
    {
     "data": {
      "text/plain": [
       "2"
      ]
     },
     "execution_count": 7,
     "metadata": {},
     "output_type": "execute_result"
    }
   ],
   "source": [
    "a = 1\n",
    "@codeGen(\"global a=a+1\")"
   ]
  },
  {
   "cell_type": "code",
   "execution_count": 78,
   "metadata": {},
   "outputs": [
    {
     "name": "stderr",
     "output_type": "stream",
     "text": [
      "\u001b[32m\u001b[1m  Resolving\u001b[22m\u001b[39m package versions...\n",
      "tar: Failed to set default locale\n",
      "tar: Failed to set default locale\n",
      "tar: Failed to set default locale\n",
      "tar: Failed to set default locale\n",
      "\u001b[32m\u001b[1m  Installed\u001b[22m\u001b[39m CodecZlib ────────── v0.7.0\n",
      "\u001b[32m\u001b[1m  Installed\u001b[22m\u001b[39m MetaGraphs ───────── v0.6.7\n",
      "\u001b[32m\u001b[1m  Installed\u001b[22m\u001b[39m TranscodingStreams ─ v0.9.5\n",
      "\u001b[32m\u001b[1m  Installed\u001b[22m\u001b[39m JLD2 ─────────────── v0.4.3\n",
      "\u001b[32m\u001b[1mUpdating\u001b[22m\u001b[39m `~/.julia/environments/JuliaPro_v1.5.4-1/Project.toml`\n",
      " \u001b[90m [626554b9] \u001b[39m\u001b[92m+ MetaGraphs v0.6.7\u001b[39m\n",
      "\u001b[32m\u001b[1mUpdating\u001b[22m\u001b[39m `~/.julia/environments/JuliaPro_v1.5.4-1/Manifest.toml`\n",
      " \u001b[90m [944b1d66] \u001b[39m\u001b[92m+ CodecZlib v0.7.0\u001b[39m\n",
      " \u001b[90m [033835bb] \u001b[39m\u001b[92m+ JLD2 v0.4.3\u001b[39m\n",
      " \u001b[90m [626554b9] \u001b[39m\u001b[92m+ MetaGraphs v0.6.7\u001b[39m\n",
      " \u001b[90m [3bb67fe8] \u001b[39m\u001b[92m+ TranscodingStreams v0.9.5\u001b[39m\n"
     ]
    }
   ],
   "source": [
    "Pkg.add(\"MetaGraphs\")"
   ]
  },
  {
   "cell_type": "code",
   "execution_count": 81,
   "metadata": {},
   "outputs": [
    {
     "data": {
      "text/plain": [
       "4-element Array{Float64,1}:\n",
       " 0.5\n",
       " 0.5\n",
       " 0.5\n",
       " 0.5"
      ]
     },
     "execution_count": 81,
     "metadata": {},
     "output_type": "execute_result"
    }
   ],
   "source": [
    "sources = [1,1,2,3]\n",
    "destinations = [2,3,3,1]\n",
    "weights =[0.5,0.5,0.5,0.5]"
   ]
  },
  {
   "cell_type": "code",
   "execution_count": 107,
   "metadata": {},
   "outputs": [
    {
     "data": {
      "text/plain": [
       "{5, 0} directed simple Int64 graph"
      ]
     },
     "execution_count": 107,
     "metadata": {},
     "output_type": "execute_result"
    }
   ],
   "source": [
    "g = SimpleDiGraph(5)"
   ]
  },
  {
   "cell_type": "code",
   "execution_count": 108,
   "metadata": {},
   "outputs": [
    {
     "data": {
      "text/plain": [
       "true"
      ]
     },
     "execution_count": 108,
     "metadata": {},
     "output_type": "execute_result"
    }
   ],
   "source": [
    "add_edge!(g, 1, 2)"
   ]
  },
  {
   "cell_type": "code",
   "execution_count": 109,
   "metadata": {},
   "outputs": [
    {
     "data": {
      "text/plain": [
       "{5, 1} directed simple Int64 graph"
      ]
     },
     "execution_count": 109,
     "metadata": {},
     "output_type": "execute_result"
    }
   ],
   "source": [
    "g"
   ]
  },
  {
   "cell_type": "code",
   "execution_count": 110,
   "metadata": {},
   "outputs": [
    {
     "name": "stdout",
     "output_type": "stream",
     "text": [
      "Edge 1 => 2\n"
     ]
    }
   ],
   "source": [
    "for e in edges(g)\n",
    "    println(e)\n",
    "end"
   ]
  },
  {
   "cell_type": "code",
   "execution_count": 111,
   "metadata": {},
   "outputs": [],
   "source": [
    "using MetaGraphs"
   ]
  },
  {
   "cell_type": "code",
   "execution_count": 112,
   "metadata": {},
   "outputs": [
    {
     "data": {
      "text/plain": [
       "{5, 1} undirected Int64 metagraph with Float64 weights defined by :weight (default weight 1.0)"
      ]
     },
     "execution_count": 112,
     "metadata": {},
     "output_type": "execute_result"
    }
   ],
   "source": [
    "mg = MetaGraph(g)"
   ]
  },
  {
   "cell_type": "code",
   "execution_count": 114,
   "metadata": {},
   "outputs": [
    {
     "data": {
      "text/plain": [
       "true"
      ]
     },
     "execution_count": 114,
     "metadata": {},
     "output_type": "execute_result"
    }
   ],
   "source": [
    "set_props!(mg, 1, Dict(:name=>\"C1\", :id => 1, :activation => 0.01, :clamped => false))"
   ]
  },
  {
   "cell_type": "code",
   "execution_count": 115,
   "metadata": {},
   "outputs": [
    {
     "name": "stdout",
     "output_type": "stream",
     "text": [
      "Edge 1 => 2\n"
     ]
    }
   ],
   "source": [
    "for e in edges(mg)\n",
    "    println(e)\n",
    "end"
   ]
  },
  {
   "cell_type": "code",
   "execution_count": 116,
   "metadata": {},
   "outputs": [
    {
     "data": {
      "text/plain": [
       "true"
      ]
     },
     "execution_count": 116,
     "metadata": {},
     "output_type": "execute_result"
    }
   ],
   "source": [
    "set_prop!(mg, Edge(1, 2), :weight, 0.5)"
   ]
  },
  {
   "cell_type": "code",
   "execution_count": 118,
   "metadata": {},
   "outputs": [
    {
     "data": {
      "text/plain": [
       "Dict{Symbol,Any} with 1 entry:\n",
       "  :weight => 0.5"
      ]
     },
     "execution_count": 118,
     "metadata": {},
     "output_type": "execute_result"
    }
   ],
   "source": [
    "props(mg, Edge(1, 2))"
   ]
  },
  {
   "cell_type": "code",
   "execution_count": 119,
   "metadata": {},
   "outputs": [
    {
     "data": {
      "text/plain": [
       "\"C1\""
      ]
     },
     "execution_count": 119,
     "metadata": {},
     "output_type": "execute_result"
    }
   ],
   "source": [
    "get_prop(mg, 1, :name)"
   ]
  },
  {
   "cell_type": "code",
   "execution_count": 120,
   "metadata": {},
   "outputs": [
    {
     "data": {
      "text/plain": [
       "0.5"
      ]
     },
     "execution_count": 120,
     "metadata": {},
     "output_type": "execute_result"
    }
   ],
   "source": [
    "get_prop(mg, Edge(1,2), :weight)"
   ]
  },
  {
   "cell_type": "code",
   "execution_count": 121,
   "metadata": {},
   "outputs": [
    {
     "data": {
      "text/plain": [
       "5"
      ]
     },
     "execution_count": 121,
     "metadata": {},
     "output_type": "execute_result"
    }
   ],
   "source": [
    "length(nodes)"
   ]
  },
  {
   "cell_type": "code",
   "execution_count": 122,
   "metadata": {},
   "outputs": [
    {
     "data": {
      "text/plain": [
       "0.0"
      ]
     },
     "execution_count": 122,
     "metadata": {},
     "output_type": "execute_result"
    }
   ],
   "source": [
    "input[nodes[1][1]]"
   ]
  },
  {
   "cell_type": "code",
   "execution_count": 388,
   "metadata": {},
   "outputs": [],
   "source": [
    "mutable struct FuzzyCogMap \n",
    "    g\n",
    "    cmap \n",
    "   \n",
    "   FuzzyCogMap(nodes,dependencies,input) =\n",
    "    begin\n",
    "     g = SimpleDiGraph(length(nodes)) \n",
    "     adj = Dict{Int,Array{Int}}()\n",
    "     pred = Dict{Int,Array{Int}}()\n",
    "     weight = Dict()\n",
    "     nodeMap = Dict()\n",
    "     nid = 1\n",
    "     for n in nodes\n",
    "        nodeMap[n[1]] = nid\n",
    "        adj[nid] = []\n",
    "        pred[nid] = []\n",
    "        nid += 1\n",
    "     end\n",
    "     for d in dependencies\n",
    "        add_edge!(g,nodeMap[d[1]],nodeMap[d[2]])\n",
    "        push!(adj[nodeMap[d[1]]],nodeMap[d[2]])\n",
    "        push!(pred[nodeMap[d[2]]],nodeMap[d[1]]) \n",
    "        weight[(nodeMap[d[1]],nodeMap[d[2]])] = d[3]\n",
    "     end\n",
    "     cm = MetaGraph(g)   \n",
    "     set_prop!(cm, :nodeSize, length(nodes))\n",
    "     set_prop!(cm, :adjList, adj)\n",
    "     set_prop!(cm, :predList, pred)\n",
    "     set_prop!(cm, :input, input)\n",
    "     set_prop!(cm, :weight, weight)\n",
    "        \n",
    "     nodeId = 1\n",
    "     for n in nodes \n",
    "        set_props!(cm, nodeId, Dict(:name=>n[1], :id => nodeId, :activation => n[2], \n",
    "                    :input => input[n[1]],:clamped => false))\n",
    "        nodeId += 1  \n",
    "     end\n",
    "     set_indexing_prop!(cm, :name)\n",
    "     new(g,cm)\n",
    "    end\n",
    "end"
   ]
  },
  {
   "cell_type": "code",
   "execution_count": 378,
   "metadata": {},
   "outputs": [
    {
     "data": {
      "text/plain": [
       "12-element Array{Tuple{String,String,Float64},1}:\n",
       " (\"C1\", \"C2\", 1.0)\n",
       " (\"C1\", \"C4\", -1.0)\n",
       " (\"C2\", \"C3\", 1.0)\n",
       " (\"C2\", \"C5\", -1.0)\n",
       " (\"C3\", \"C4\", 1.0)\n",
       " (\"C3\", \"C5\", -1.0)\n",
       " (\"C4\", \"C1\", 1.0)\n",
       " (\"C4\", \"C3\", -1.0)\n",
       " (\"C4\", \"C5\", 1.0)\n",
       " (\"C5\", \"C1\", -1.0)\n",
       " (\"C5\", \"C2\", 1.0)\n",
       " (\"C5\", \"C4\", -1.0)"
      ]
     },
     "execution_count": 378,
     "metadata": {},
     "output_type": "execute_result"
    }
   ],
   "source": [
    "dependencies"
   ]
  },
  {
   "cell_type": "code",
   "execution_count": 379,
   "metadata": {},
   "outputs": [
    {
     "data": {
      "text/plain": [
       "5-element Array{Tuple{String,Float64},1}:\n",
       " (\"C1\", 0.0)\n",
       " (\"C2\", 0.0)\n",
       " (\"C3\", 0.0)\n",
       " (\"C4\", 1.0)\n",
       " (\"C5\", 0.0)"
      ]
     },
     "execution_count": 379,
     "metadata": {},
     "output_type": "execute_result"
    }
   ],
   "source": [
    "nodes"
   ]
  },
  {
   "cell_type": "code",
   "execution_count": 380,
   "metadata": {},
   "outputs": [
    {
     "data": {
      "text/plain": [
       "Dict{String,Float64} with 5 entries:\n",
       "  \"C1\" => 0.0\n",
       "  \"C2\" => 0.0\n",
       "  \"C3\" => 0.0\n",
       "  \"C4\" => 0.0\n",
       "  \"C5\" => 0.0"
      ]
     },
     "execution_count": 380,
     "metadata": {},
     "output_type": "execute_result"
    }
   ],
   "source": [
    "input"
   ]
  },
  {
   "cell_type": "code",
   "execution_count": 389,
   "metadata": {},
   "outputs": [
    {
     "data": {
      "text/plain": [
       "FuzzyCogMap({5, 12} directed simple Int64 graph, {5, 8} undirected Int64 metagraph with Float64 weights defined by :weight (default weight 1.0))"
      ]
     },
     "execution_count": 389,
     "metadata": {},
     "output_type": "execute_result"
    }
   ],
   "source": [
    "cogMap = FuzzyCogMap(nodes,dependencies,input)"
   ]
  },
  {
   "cell_type": "code",
   "execution_count": 390,
   "metadata": {},
   "outputs": [
    {
     "data": {
      "text/plain": [
       "{5, 8} undirected Int64 metagraph with Float64 weights defined by :weight (default weight 1.0)"
      ]
     },
     "execution_count": 390,
     "metadata": {},
     "output_type": "execute_result"
    }
   ],
   "source": [
    "cogMap.cmap"
   ]
  },
  {
   "cell_type": "code",
   "execution_count": 391,
   "metadata": {},
   "outputs": [
    {
     "data": {
      "text/plain": [
       "Dict{Symbol,Any} with 5 entries:\n",
       "  :weight   => Dict{Any,Any}((4, 3)=>-1.0,(2, 3)=>1.0,(5, 4)=>-1.0,(2, 5)=>-1.0…\n",
       "  :nodeSize => 5\n",
       "  :adjList  => Dict{Int64,Array{Int64,N} where N}(4=>[1, 3, 5],2=>[3, 5],3=>[4,…\n",
       "  :input    => Dict(\"C1\"=>0.0,\"C2\"=>0.0,\"C3\"=>0.0,\"C4\"=>0.0,\"C5\"=>0.0)\n",
       "  :predList => Dict{Int64,Array{Int64,N} where N}(4=>[1, 3, 5],2=>[1, 5],3=>[2,…"
      ]
     },
     "execution_count": 391,
     "metadata": {},
     "output_type": "execute_result"
    }
   ],
   "source": [
    "props(cogMap.cmap)"
   ]
  },
  {
   "cell_type": "code",
   "execution_count": 392,
   "metadata": {},
   "outputs": [
    {
     "data": {
      "text/plain": [
       "Dict{Symbol,Any} with 5 entries:\n",
       "  :activation => 0.0\n",
       "  :clamped    => false\n",
       "  :id         => 1\n",
       "  :name       => \"C1\"\n",
       "  :input      => 0.0"
      ]
     },
     "execution_count": 392,
     "metadata": {},
     "output_type": "execute_result"
    }
   ],
   "source": [
    "props(cogMap.cmap,1)"
   ]
  },
  {
   "cell_type": "code",
   "execution_count": 393,
   "metadata": {},
   "outputs": [
    {
     "name": "stdout",
     "output_type": "stream",
     "text": [
      "Activation of node 1 is 0.0\n",
      "Activation of node 2 is 0.0\n",
      "Activation of node 3 is 0.0\n",
      "Activation of node 4 is 1.0\n",
      "Activation of node 5 is 0.0\n"
     ]
    }
   ],
   "source": [
    "size = props(cogMap.cmap)[:nodeSize]\n",
    "for i in 1:size\n",
    "    a = get_prop(cogMap.cmap, i, :activation)\n",
    "    println(\"Activation of node $i is \", a)\n",
    "end"
   ]
  },
  {
   "cell_type": "code",
   "execution_count": 394,
   "metadata": {},
   "outputs": [
    {
     "data": {
      "text/plain": [
       "getActivations (generic function with 2 methods)"
      ]
     },
     "execution_count": 394,
     "metadata": {},
     "output_type": "execute_result"
    }
   ],
   "source": [
    "function getActivations(fcmap::FuzzyCogMap)\n",
    "    nodeActivations = Dict()\n",
    "    size = props(cogMap.cmap)[:nodeSize]\n",
    "    for i in 1:size\n",
    "        a = get_prop(cogMap.cmap, i, :activation)\n",
    "        nodeActivations[i]=a\n",
    "    end\n",
    "    nodeActivations\n",
    "end"
   ]
  },
  {
   "cell_type": "code",
   "execution_count": 395,
   "metadata": {},
   "outputs": [
    {
     "data": {
      "text/plain": [
       "Dict{Any,Any} with 5 entries:\n",
       "  4 => 1.0\n",
       "  2 => 0.0\n",
       "  3 => 0.0\n",
       "  5 => 0.0\n",
       "  1 => 0.0"
      ]
     },
     "execution_count": 395,
     "metadata": {},
     "output_type": "execute_result"
    }
   ],
   "source": [
    "getActivations(cogMap)"
   ]
  },
  {
   "cell_type": "code",
   "execution_count": 326,
   "metadata": {},
   "outputs": [
    {
     "data": {
      "text/plain": [
       "simulateSynchronous (generic function with 2 methods)"
      ]
     },
     "execution_count": 326,
     "metadata": {},
     "output_type": "execute_result"
    }
   ],
   "source": [
    "function simulateSynchronous(fcmap::FuzzyCogMap,replications::Int=0)\n",
    "    println(\"----------\")\n",
    "    println(\"Initial: \")\n",
    "    println(getActivations(fcmap))\n",
    "    for i in 1:replications\n",
    "        computeActivations(fcmap)\n",
    "        println(\"----------\")\n",
    "        println(\"Step $i: \")\n",
    "        println(getActivations(fcmap))\n",
    "    end\n",
    "end"
   ]
  },
  {
   "cell_type": "code",
   "execution_count": 396,
   "metadata": {},
   "outputs": [
    {
     "data": {
      "text/plain": [
       "Dict{Int64,Array{Int64,N} where N} with 5 entries:\n",
       "  4 => [1, 3, 5]\n",
       "  2 => [1, 5]\n",
       "  3 => [2, 4]\n",
       "  5 => [2, 3, 4]\n",
       "  1 => [4, 5]"
      ]
     },
     "execution_count": 396,
     "metadata": {},
     "output_type": "execute_result"
    }
   ],
   "source": [
    "props(cogMap.cmap)[:predList]"
   ]
  },
  {
   "cell_type": "code",
   "execution_count": 407,
   "metadata": {},
   "outputs": [
    {
     "name": "stdout",
     "output_type": "stream",
     "text": [
      "----------\n",
      "Initial: \n",
      "Dict{Any,Any}(4 => 1.0,2 => 0.0,3 => 0.0,5 => 0.0,1 => 0.0)\n",
      "----------\n",
      "Step 1: \n",
      "Dict{Any,Any}(4 => 0.0,2 => 0.0,3 => 0.0,5 => 1.0,1 => 1.0)\n",
      "----------\n",
      "Step 2: \n",
      "Dict{Any,Any}(4 => 0.0,2 => 1.0,3 => 0.0,5 => 0.0,1 => 0.0)\n",
      "----------\n",
      "Step 3: \n",
      "Dict{Any,Any}(4 => 0.0,2 => 0.0,3 => 1.0,5 => 0.0,1 => 0.0)\n",
      "----------\n",
      "Step 4: \n",
      "Dict{Any,Any}(4 => 1.0,2 => 0.0,3 => 0.0,5 => 0.0,1 => 0.0)\n",
      "----------\n",
      "Step 5: \n",
      "Dict{Any,Any}(4 => 0.0,2 => 0.0,3 => 0.0,5 => 1.0,1 => 1.0)\n",
      "----------\n",
      "Step 6: \n",
      "Dict{Any,Any}(4 => 0.0,2 => 1.0,3 => 0.0,5 => 0.0,1 => 0.0)\n",
      "----------\n",
      "Step 7: \n",
      "Dict{Any,Any}(4 => 0.0,2 => 0.0,3 => 1.0,5 => 0.0,1 => 0.0)\n",
      "----------\n",
      "Step 8: \n",
      "Dict{Any,Any}(4 => 1.0,2 => 0.0,3 => 0.0,5 => 0.0,1 => 0.0)\n",
      "----------\n",
      "Step 9: \n",
      "Dict{Any,Any}(4 => 0.0,2 => 0.0,3 => 0.0,5 => 1.0,1 => 1.0)\n",
      "----------\n",
      "Step 10: \n",
      "Dict{Any,Any}(4 => 0.0,2 => 1.0,3 => 0.0,5 => 0.0,1 => 0.0)\n"
     ]
    }
   ],
   "source": [
    "simulateSynchronous(cogMap,10)"
   ]
  },
  {
   "cell_type": "code",
   "execution_count": 404,
   "metadata": {},
   "outputs": [
    {
     "data": {
      "text/plain": [
       "computeActivations (generic function with 1 method)"
      ]
     },
     "execution_count": 404,
     "metadata": {},
     "output_type": "execute_result"
    }
   ],
   "source": [
    "function computeActivations(fcmap::FuzzyCogMap)\n",
    "    currentActivation = Dict{Int,Real}()\n",
    "    cm = fcmap.cmap\n",
    "    size = props(cm)[:nodeSize]\n",
    "    for i = 1:size\n",
    "        currentActivation[i] = get_prop(cm, i, :activation)\n",
    "    end\n",
    "    delta = 0.0\n",
    "    for i = 1:size\n",
    "        d = updateNodeAct(cm,i,currentActivation)\n",
    "        delta = max(delta,d)\n",
    "    end\n",
    "    delta\n",
    "end"
   ]
  },
  {
   "cell_type": "code",
   "execution_count": 397,
   "metadata": {},
   "outputs": [
    {
     "data": {
      "text/plain": [
       "{5, 8} undirected Int64 metagraph with Float64 weights defined by :weight (default weight 1.0)"
      ]
     },
     "execution_count": 397,
     "metadata": {},
     "output_type": "execute_result"
    }
   ],
   "source": [
    "c = cogMap.cmap"
   ]
  },
  {
   "cell_type": "code",
   "execution_count": 398,
   "metadata": {},
   "outputs": [
    {
     "data": {
      "text/plain": [
       "Dict{Symbol,Any} with 5 entries:\n",
       "  :weight   => Dict{Any,Any}((4, 3)=>-1.0,(2, 3)=>1.0,(5, 4)=>-1.0,(2, 5)=>-1.0…\n",
       "  :nodeSize => 5\n",
       "  :adjList  => Dict{Int64,Array{Int64,N} where N}(4=>[1, 3, 5],2=>[3, 5],3=>[4,…\n",
       "  :input    => Dict(\"C1\"=>0.0,\"C2\"=>0.0,\"C3\"=>0.0,\"C4\"=>0.0,\"C5\"=>0.0)\n",
       "  :predList => Dict{Int64,Array{Int64,N} where N}(4=>[1, 3, 5],2=>[1, 5],3=>[2,…"
      ]
     },
     "execution_count": 398,
     "metadata": {},
     "output_type": "execute_result"
    }
   ],
   "source": [
    "props(c)"
   ]
  },
  {
   "cell_type": "code",
   "execution_count": 399,
   "metadata": {},
   "outputs": [
    {
     "data": {
      "text/plain": [
       "-1.0"
      ]
     },
     "execution_count": 399,
     "metadata": {},
     "output_type": "execute_result"
    }
   ],
   "source": [
    "props(c)[:weight][5,4]"
   ]
  },
  {
   "cell_type": "code",
   "execution_count": 372,
   "metadata": {},
   "outputs": [
    {
     "data": {
      "text/plain": [
       "Dict{Symbol,Any} with 5 entries:\n",
       "  :activation => 0.0\n",
       "  :clamped    => false\n",
       "  :id         => 1\n",
       "  :name       => \"C1\"\n",
       "  :input      => 0.0"
      ]
     },
     "execution_count": 372,
     "metadata": {},
     "output_type": "execute_result"
    }
   ],
   "source": [
    "p = props(c,1)"
   ]
  },
  {
   "cell_type": "code",
   "execution_count": 197,
   "metadata": {},
   "outputs": [
    {
     "name": "stdout",
     "output_type": "stream",
     "text": [
      "false\n"
     ]
    }
   ],
   "source": [
    "if props(c,1)[:clamped] == false \n",
    "    println(\"false\")\n",
    "end"
   ]
  },
  {
   "cell_type": "code",
   "execution_count": 373,
   "metadata": {},
   "outputs": [
    {
     "data": {
      "text/plain": [
       "Dict{Int64,Array{Int64,N} where N} with 5 entries:\n",
       "  4 => [1, 3, 5]\n",
       "  2 => [3, 5]\n",
       "  3 => [4, 5]\n",
       "  5 => [1, 2, 4]\n",
       "  1 => [2, 4]"
      ]
     },
     "execution_count": 373,
     "metadata": {},
     "output_type": "execute_result"
    }
   ],
   "source": [
    "l = props(c)[:adjList]"
   ]
  },
  {
   "cell_type": "code",
   "execution_count": 374,
   "metadata": {},
   "outputs": [
    {
     "data": {
      "text/plain": [
       "Dict{Int64,Array{Int64,N} where N} with 5 entries:\n",
       "  4 => [1, 3, 5]\n",
       "  2 => [1, 5]\n",
       "  3 => [2, 4]\n",
       "  5 => [2, 3, 4]\n",
       "  1 => [4, 5]"
      ]
     },
     "execution_count": 374,
     "metadata": {},
     "output_type": "execute_result"
    }
   ],
   "source": [
    "p = props(c)[:predList]"
   ]
  },
  {
   "cell_type": "code",
   "execution_count": 375,
   "metadata": {},
   "outputs": [
    {
     "data": {
      "text/plain": [
       "Dict{String,Float64} with 5 entries:\n",
       "  \"C1\" => 0.0\n",
       "  \"C2\" => 0.0\n",
       "  \"C3\" => 0.0\n",
       "  \"C4\" => 0.0\n",
       "  \"C5\" => 0.0"
      ]
     },
     "execution_count": 375,
     "metadata": {},
     "output_type": "execute_result"
    }
   ],
   "source": [
    "i = props(c)[:input]"
   ]
  },
  {
   "cell_type": "code",
   "execution_count": 400,
   "metadata": {},
   "outputs": [
    {
     "data": {
      "text/plain": [
       "1"
      ]
     },
     "execution_count": 400,
     "metadata": {},
     "output_type": "execute_result"
    }
   ],
   "source": [
    "c[\"C1\", :name]"
   ]
  },
  {
   "cell_type": "code",
   "execution_count": 401,
   "metadata": {},
   "outputs": [
    {
     "data": {
      "text/plain": [
       "\"C1\""
      ]
     },
     "execution_count": 401,
     "metadata": {},
     "output_type": "execute_result"
    }
   ],
   "source": [
    "c[1, :name]"
   ]
  },
  {
   "cell_type": "code",
   "execution_count": 239,
   "metadata": {},
   "outputs": [
    {
     "data": {
      "text/plain": [
       "0.0"
      ]
     },
     "execution_count": 239,
     "metadata": {},
     "output_type": "execute_result"
    }
   ],
   "source": [
    "i = props(c)[:input][c[1,:name]]"
   ]
  },
  {
   "cell_type": "code",
   "execution_count": 405,
   "metadata": {},
   "outputs": [
    {
     "data": {
      "text/plain": [
       "updateNodeAct (generic function with 1 method)"
      ]
     },
     "execution_count": 405,
     "metadata": {},
     "output_type": "execute_result"
    }
   ],
   "source": [
    "function updateNodeAct(map,nodeId,activations)\n",
    "    if (props(map,nodeId)[:clamped] == false)\n",
    "        net = 0.0\n",
    "        pred = props(map)[:predList]\n",
    "        inflow = pred[nodeId]\n",
    "        for m in inflow\n",
    "            w = props(c)[:weight][m,nodeId]\n",
    "            a = activations[m]\n",
    "            net = net + (a * w)\n",
    "        end\n",
    "        set_prop!(map, nodeId, :activation, hardThreshold(map,net,nodeId))\n",
    "    end\n",
    "    diff = abs(get_prop(map, nodeId, :activation)-activations[nodeId])\n",
    "    return diff\n",
    "end"
   ]
  },
  {
   "cell_type": "code",
   "execution_count": 406,
   "metadata": {},
   "outputs": [
    {
     "data": {
      "text/plain": [
       "hardThreshold (generic function with 1 method)"
      ]
     },
     "execution_count": 406,
     "metadata": {},
     "output_type": "execute_result"
    }
   ],
   "source": [
    "function hardThreshold(map,net,id)\n",
    "    if (net+props(map)[:input][map[id,:name]]) > 0 \n",
    "        return 1.0\n",
    "    else return 0.0\n",
    "    end  \n",
    "end"
   ]
  },
  {
   "cell_type": "code",
   "execution_count": null,
   "metadata": {},
   "outputs": [],
   "source": []
  }
 ],
 "metadata": {
  "kernelspec": {
   "display_name": "JuliaPro_v1.5.4-1 1.5.4",
   "language": "julia",
   "name": "juliapro_v1.5.4-1-1.5"
  },
  "language_info": {
   "file_extension": ".jl",
   "mimetype": "application/julia",
   "name": "julia",
   "version": "1.5.4"
  }
 },
 "nbformat": 4,
 "nbformat_minor": 4
}
